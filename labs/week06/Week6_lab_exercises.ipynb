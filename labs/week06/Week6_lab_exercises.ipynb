{
 "cells": [
  {
   "cell_type": "markdown",
   "metadata": {},
   "source": [
    "---\n",
    "# <div align=\"center\"><font color='green'> COSC 2673/2793 | Machine Learning  </font></div>\n",
    "## <div align=\"center\"> <font color='green'> Week 6 Lab Exercises: **Decision Trees**</font></div>\n",
    "---"
   ]
  },
  {
   "cell_type": "markdown",
   "metadata": {},
   "source": [
    "# Introduction\n",
    "\n",
    "During the last couple of weeks we learned about the typical ML model development process. In this weeks lab we will explore decision tree based models. \n",
    "\n",
    "The lab assumes that you have completed the labs for week 2-5. If you havent yet, please do so before attempting this lab. \n",
    "\n",
    "The lab can be executed on either your own machine (with anaconda installation) or on AWS educate classroom setup for the course. \n",
    "- Please refer canvas for instructions on installing anaconda python or setting up AWS Sagemaker notebook: [Introduction to Amazon Web Services (AWS) Classrooms](https://rmit.instructure.com/courses/79534/pages/introduction-to-amazon-web-services-aws-classrooms?module_item_id=2952364)\n",
    "\n",
    "\n",
    "## Objective\n",
    "- Continue to familiarise with Python and other ML packages.\n",
    "- Learning classification decision trees from both categorical and continuous numerical data\n",
    "- Comparing the performance of various trees after pruned.\n",
    "- Learning regression decision trees and comparing these models to regression models from previous labs.\n",
    "\n",
    "\n",
    "## Dataset\n",
    "\n",
    "The data is related with direct marketing campaigns of a Portuguese banking institution. The marketing campaigns were based on phone calls. Often, more than one contact to the same client was required, in order to access if the product (bank term deposit) would be (or not) subscribed. \n",
    "\n",
    "#### Input variables:\n",
    "- Bank client data:\n",
    "    1. age (numeric)\n",
    "    2. job : type of job (categorical: \"admin.\",\"unknown\",\"unemployed\",\"management\",\"housemaid\",\"entrepreneur\",\"student\", \"blue-collar\",\"self-employed\",\"retired\",\"technician\",\"services\") \n",
    "    3. marital : marital status (categorical: \"married\",\"divorced\",\"single\"; note: \"divorced\" means divorced or widowed)\n",
    "    4. education (categorical: \"unknown\",\"secondary\",\"primary\",\"tertiary\")\n",
    "    5. default: has credit in default? (binary: \"yes\",\"no\")\n",
    "    6. balance: average yearly balance, in euros (numeric) \n",
    "    7. housing: has housing loan? (binary: \"yes\",\"no\")\n",
    "    8. loan: has personal loan? (binary: \"yes\",\"no\")\n",
    "- Related with the last contact of the current campaign:\n",
    "    9. contact: contact communication type (categorical: \"unknown\",\"telephone\",\"cellular\") \n",
    "    10. day: last contact day of the month (numeric)\n",
    "    11. month: last contact month of year (categorical: \"jan\", \"feb\", \"mar\", ..., \"nov\", \"dec\")\n",
    "    12. duration: last contact duration, in seconds (numeric)\n",
    "- Other attributes:\n",
    "    13. campaign: number of contacts performed during this campaign and for this client (numeric, includes last contact)\n",
    "    14. pdays: number of days that passed by after the client was last contacted from a previous campaign (numeric, -1 means client was not previously contacted)\n",
    "    15. previous: number of contacts performed before this campaign and for this client (numeric)\n",
    "    16. poutcome: outcome of the previous marketing campaign (categorical: \"unknown\",\"other\",\"failure\",\"success\")\n",
    "    \n",
    "#### Output variable (desired target):   \n",
    "    17. y - has the client subscribed a term deposit? (binary: \"yes\",\"no\")\n",
    "    \n",
    "This dataset is public available for research. The details are described in Moro et al., 2011.\n",
    "\n",
    "Moro et al., 2011: S. Moro, R. Laureano and P. Cortez. Using Data Mining for Bank Direct Marketing: An Application of the CRISP-DM Methodology. \n",
    "  In P. Novais et al. (Eds.), Proceedings of the European Simulation and Modelling Conference - ESM'2011, pp. 117-121, Guimarães, Portugal, October, 2011. \n",
    "\n",
    "Lets read the data first."
   ]
  },
  {
   "cell_type": "code",
   "execution_count": 113,
   "metadata": {},
   "outputs": [
    {
     "data": {
      "text/plain": "   age           job  marital  education default  balance housing loan  \\\n0   58    management  married   tertiary      no     2143     yes   no   \n1   44    technician   single  secondary      no       29     yes   no   \n2   33  entrepreneur  married  secondary      no        2     yes  yes   \n3   47   blue-collar  married    unknown      no     1506     yes   no   \n4   33       unknown   single    unknown      no        1      no   no   \n\n   contact  day month  duration  campaign  pdays  previous poutcome   y  \n0  unknown    5   may       261         1     -1         0  unknown  no  \n1  unknown    5   may       151         1     -1         0  unknown  no  \n2  unknown    5   may        76         1     -1         0  unknown  no  \n3  unknown    5   may        92         1     -1         0  unknown  no  \n4  unknown    5   may       198         1     -1         0  unknown  no  ",
      "text/html": "<div>\n<style scoped>\n    .dataframe tbody tr th:only-of-type {\n        vertical-align: middle;\n    }\n\n    .dataframe tbody tr th {\n        vertical-align: top;\n    }\n\n    .dataframe thead th {\n        text-align: right;\n    }\n</style>\n<table border=\"1\" class=\"dataframe\">\n  <thead>\n    <tr style=\"text-align: right;\">\n      <th></th>\n      <th>age</th>\n      <th>job</th>\n      <th>marital</th>\n      <th>education</th>\n      <th>default</th>\n      <th>balance</th>\n      <th>housing</th>\n      <th>loan</th>\n      <th>contact</th>\n      <th>day</th>\n      <th>month</th>\n      <th>duration</th>\n      <th>campaign</th>\n      <th>pdays</th>\n      <th>previous</th>\n      <th>poutcome</th>\n      <th>y</th>\n    </tr>\n  </thead>\n  <tbody>\n    <tr>\n      <th>0</th>\n      <td>58</td>\n      <td>management</td>\n      <td>married</td>\n      <td>tertiary</td>\n      <td>no</td>\n      <td>2143</td>\n      <td>yes</td>\n      <td>no</td>\n      <td>unknown</td>\n      <td>5</td>\n      <td>may</td>\n      <td>261</td>\n      <td>1</td>\n      <td>-1</td>\n      <td>0</td>\n      <td>unknown</td>\n      <td>no</td>\n    </tr>\n    <tr>\n      <th>1</th>\n      <td>44</td>\n      <td>technician</td>\n      <td>single</td>\n      <td>secondary</td>\n      <td>no</td>\n      <td>29</td>\n      <td>yes</td>\n      <td>no</td>\n      <td>unknown</td>\n      <td>5</td>\n      <td>may</td>\n      <td>151</td>\n      <td>1</td>\n      <td>-1</td>\n      <td>0</td>\n      <td>unknown</td>\n      <td>no</td>\n    </tr>\n    <tr>\n      <th>2</th>\n      <td>33</td>\n      <td>entrepreneur</td>\n      <td>married</td>\n      <td>secondary</td>\n      <td>no</td>\n      <td>2</td>\n      <td>yes</td>\n      <td>yes</td>\n      <td>unknown</td>\n      <td>5</td>\n      <td>may</td>\n      <td>76</td>\n      <td>1</td>\n      <td>-1</td>\n      <td>0</td>\n      <td>unknown</td>\n      <td>no</td>\n    </tr>\n    <tr>\n      <th>3</th>\n      <td>47</td>\n      <td>blue-collar</td>\n      <td>married</td>\n      <td>unknown</td>\n      <td>no</td>\n      <td>1506</td>\n      <td>yes</td>\n      <td>no</td>\n      <td>unknown</td>\n      <td>5</td>\n      <td>may</td>\n      <td>92</td>\n      <td>1</td>\n      <td>-1</td>\n      <td>0</td>\n      <td>unknown</td>\n      <td>no</td>\n    </tr>\n    <tr>\n      <th>4</th>\n      <td>33</td>\n      <td>unknown</td>\n      <td>single</td>\n      <td>unknown</td>\n      <td>no</td>\n      <td>1</td>\n      <td>no</td>\n      <td>no</td>\n      <td>unknown</td>\n      <td>5</td>\n      <td>may</td>\n      <td>198</td>\n      <td>1</td>\n      <td>-1</td>\n      <td>0</td>\n      <td>unknown</td>\n      <td>no</td>\n    </tr>\n  </tbody>\n</table>\n</div>"
     },
     "execution_count": 113,
     "metadata": {},
     "output_type": "execute_result"
    }
   ],
   "source": [
    "import pandas as pd\n",
    "import matplotlib.pyplot as plt\n",
    "import numpy as np\n",
    "\n",
    "data = pd.read_csv('./bank-full.csv', delimiter=';')\n",
    "data.head()"
   ]
  },
  {
   "cell_type": "markdown",
   "metadata": {},
   "source": [
    "The dataset contains categorical and numerical attributes. Lets convert the categorical columns to categorical data type in pandas. "
   ]
  },
  {
   "cell_type": "code",
   "execution_count": 114,
   "metadata": {},
   "outputs": [],
   "source": [
    "for col in data.columns:\n",
    "    if data[col].dtype == object:\n",
    "        data[col] = data[col].astype('category')"
   ]
  },
  {
   "cell_type": "markdown",
   "metadata": {},
   "source": [
    "sklearn’s classification decision tree learner doesn’t work with categorical attributes.  It only works with continuous numeric attributes.  The target class, however, must be categorical.  So the categorical attributed must be converted into a suitable continuous format. Helpfully, Pandas can do this. \n",
    "\n",
    "First, split the data into the target class and attributes:"
   ]
  },
  {
   "cell_type": "code",
   "execution_count": 115,
   "metadata": {},
   "outputs": [],
   "source": [
    "dataY = data['y']\n",
    "dataX = data.drop(columns='y')"
   ]
  },
  {
   "cell_type": "markdown",
   "metadata": {},
   "source": [
    "Then use Pandas to generate \"numerical\" versions of the attributes:"
   ]
  },
  {
   "cell_type": "code",
   "execution_count": 116,
   "metadata": {},
   "outputs": [
    {
     "data": {
      "text/plain": "   age  balance  day  duration  campaign  pdays  previous  job_admin.  \\\n0   58     2143    5       261         1     -1         0           0   \n1   44       29    5       151         1     -1         0           0   \n2   33        2    5        76         1     -1         0           0   \n3   47     1506    5        92         1     -1         0           0   \n4   33        1    5       198         1     -1         0           0   \n\n   job_blue-collar  job_entrepreneur  ...  month_jun  month_mar  month_may  \\\n0                0                 0  ...          0          0          1   \n1                0                 0  ...          0          0          1   \n2                0                 1  ...          0          0          1   \n3                1                 0  ...          0          0          1   \n4                0                 0  ...          0          0          1   \n\n   month_nov  month_oct  month_sep  poutcome_failure  poutcome_other  \\\n0          0          0          0                 0               0   \n1          0          0          0                 0               0   \n2          0          0          0                 0               0   \n3          0          0          0                 0               0   \n4          0          0          0                 0               0   \n\n   poutcome_success  poutcome_unknown  \n0                 0                 1  \n1                 0                 1  \n2                 0                 1  \n3                 0                 1  \n4                 0                 1  \n\n[5 rows x 51 columns]",
      "text/html": "<div>\n<style scoped>\n    .dataframe tbody tr th:only-of-type {\n        vertical-align: middle;\n    }\n\n    .dataframe tbody tr th {\n        vertical-align: top;\n    }\n\n    .dataframe thead th {\n        text-align: right;\n    }\n</style>\n<table border=\"1\" class=\"dataframe\">\n  <thead>\n    <tr style=\"text-align: right;\">\n      <th></th>\n      <th>age</th>\n      <th>balance</th>\n      <th>day</th>\n      <th>duration</th>\n      <th>campaign</th>\n      <th>pdays</th>\n      <th>previous</th>\n      <th>job_admin.</th>\n      <th>job_blue-collar</th>\n      <th>job_entrepreneur</th>\n      <th>...</th>\n      <th>month_jun</th>\n      <th>month_mar</th>\n      <th>month_may</th>\n      <th>month_nov</th>\n      <th>month_oct</th>\n      <th>month_sep</th>\n      <th>poutcome_failure</th>\n      <th>poutcome_other</th>\n      <th>poutcome_success</th>\n      <th>poutcome_unknown</th>\n    </tr>\n  </thead>\n  <tbody>\n    <tr>\n      <th>0</th>\n      <td>58</td>\n      <td>2143</td>\n      <td>5</td>\n      <td>261</td>\n      <td>1</td>\n      <td>-1</td>\n      <td>0</td>\n      <td>0</td>\n      <td>0</td>\n      <td>0</td>\n      <td>...</td>\n      <td>0</td>\n      <td>0</td>\n      <td>1</td>\n      <td>0</td>\n      <td>0</td>\n      <td>0</td>\n      <td>0</td>\n      <td>0</td>\n      <td>0</td>\n      <td>1</td>\n    </tr>\n    <tr>\n      <th>1</th>\n      <td>44</td>\n      <td>29</td>\n      <td>5</td>\n      <td>151</td>\n      <td>1</td>\n      <td>-1</td>\n      <td>0</td>\n      <td>0</td>\n      <td>0</td>\n      <td>0</td>\n      <td>...</td>\n      <td>0</td>\n      <td>0</td>\n      <td>1</td>\n      <td>0</td>\n      <td>0</td>\n      <td>0</td>\n      <td>0</td>\n      <td>0</td>\n      <td>0</td>\n      <td>1</td>\n    </tr>\n    <tr>\n      <th>2</th>\n      <td>33</td>\n      <td>2</td>\n      <td>5</td>\n      <td>76</td>\n      <td>1</td>\n      <td>-1</td>\n      <td>0</td>\n      <td>0</td>\n      <td>0</td>\n      <td>1</td>\n      <td>...</td>\n      <td>0</td>\n      <td>0</td>\n      <td>1</td>\n      <td>0</td>\n      <td>0</td>\n      <td>0</td>\n      <td>0</td>\n      <td>0</td>\n      <td>0</td>\n      <td>1</td>\n    </tr>\n    <tr>\n      <th>3</th>\n      <td>47</td>\n      <td>1506</td>\n      <td>5</td>\n      <td>92</td>\n      <td>1</td>\n      <td>-1</td>\n      <td>0</td>\n      <td>0</td>\n      <td>1</td>\n      <td>0</td>\n      <td>...</td>\n      <td>0</td>\n      <td>0</td>\n      <td>1</td>\n      <td>0</td>\n      <td>0</td>\n      <td>0</td>\n      <td>0</td>\n      <td>0</td>\n      <td>0</td>\n      <td>1</td>\n    </tr>\n    <tr>\n      <th>4</th>\n      <td>33</td>\n      <td>1</td>\n      <td>5</td>\n      <td>198</td>\n      <td>1</td>\n      <td>-1</td>\n      <td>0</td>\n      <td>0</td>\n      <td>0</td>\n      <td>0</td>\n      <td>...</td>\n      <td>0</td>\n      <td>0</td>\n      <td>1</td>\n      <td>0</td>\n      <td>0</td>\n      <td>0</td>\n      <td>0</td>\n      <td>0</td>\n      <td>0</td>\n      <td>1</td>\n    </tr>\n  </tbody>\n</table>\n<p>5 rows × 51 columns</p>\n</div>"
     },
     "execution_count": 116,
     "metadata": {},
     "output_type": "execute_result"
    }
   ],
   "source": [
    "dataXExpand = pd.get_dummies(dataX)\n",
    "dataXExpand.head()"
   ]
  },
  {
   "cell_type": "markdown",
   "metadata": {},
   "source": [
    "As you can see, the categories are expanded into boolean (yes/no, that is, 1/0) values that can be treated as continuous numerical values. It’s not ideal, but it will allow a correct decision tree to be learned.\n",
    "\n",
    "\n",
    "<span style=\"font-size:1.5em;\">�</span> Why is it necessary to convert the attributes into boolean representations, rather than just convert them into integer values? What problem would be caused by converting the attributes into integers?"
   ]
  },
  {
   "cell_type": "markdown",
   "metadata": {},
   "source": [
    "The target class also needs to be pre-processed.  The target will be treated by sklearn as a category, but sklearn requires that these categories are represented as integers (not strings). To convert the strings into numbers, the preprocessing. LabelEncoder class from sklearn can be used, as shown below. The two print statements show how to convert in both directions (strings to integers, and vice-versa)."
   ]
  },
  {
   "cell_type": "code",
   "execution_count": 117,
   "metadata": {},
   "outputs": [
    {
     "name": "stdout",
     "output_type": "stream",
     "text": [
      "[0 0 0 ... 1 0 0]\n",
      "['no' 'yes']\n"
     ]
    }
   ],
   "source": [
    "from sklearn import preprocessing\n",
    "\n",
    "le = preprocessing.LabelEncoder()\n",
    "le.fit(dataY)\n",
    "class_labels = le.inverse_transform([0,1])\n",
    "dataY = le.transform(dataY)\n",
    "print(dataY)\n",
    "print(class_labels)"
   ]
  },
  {
   "cell_type": "markdown",
   "metadata": {},
   "source": [
    "# EDA\n",
    "> **<font color='red'><span style=\"font-size:1.5em;\">☞</span> Task: Since we have covered how to do EDA in the previous labs, this section is left as an exercise for you. Complete the EDA and use the information to justify the decisions made in the subsequent code blocks.</font>**  "
   ]
  },
  {
   "cell_type": "code",
   "execution_count": 118,
   "metadata": {},
   "outputs": [],
   "source": [
    "# TODO\n"
   ]
  },
  {
   "cell_type": "markdown",
   "metadata": {},
   "source": [
    "# Setting up the performance (evaluation) metric\n",
    "There are many performance metrics that apply to this problem such as `accuracy_score`, `f1_score`, etc. More information on performance metrics available in sklearn can be found at: https://scikit-learn.org/stable/modules/classes.html#module-sklearn.metrics\n",
    "\n",
    "The insights gained in the EDA becomes vital in determining the performance metric. Try to identify the characteristics that are important in making this decision from the EDA results. Use your judgment to pick the best performance measure - discuss with the lab demonstrator to see if the performance measure you came up with is appropriate. \n",
    "\n",
    "\n",
    "In this task, I want to give equal importance to all classes. Therefore I will select `macro-averaged` `f1_score` as my performance measure and I wish to achieve a target value of 75% f1_score. \n",
    "\n",
    "F1-score is NOT the only performance measure that can be used for this problem.\n"
   ]
  },
  {
   "cell_type": "markdown",
   "metadata": {},
   "source": [
    "# Setup the experiment - data splits\n",
    "\n",
    "Next **what data should we use to evaluate the performance?**\n",
    "\n",
    "\n",
    "We can generate \"simulated\" unseen data in several methods\n",
    "1. Hold-Out validation\n",
    "2. Cross-Validation\n",
    "\n",
    "Lets use hold out validation for this experiment.\n",
    "\n",
    "> **<font color='red'><span style=\"font-size:1.5em;\">☞</span> Task: Use the knowledge from last couple of weeks to split the data appropriately.</font>**  "
   ]
  },
  {
   "cell_type": "code",
   "execution_count": 119,
   "metadata": {},
   "outputs": [
    {
     "name": "stdout",
     "output_type": "stream",
     "text": [
      "(27126, 51) (9042, 51) (9043, 51)\n"
     ]
    }
   ],
   "source": [
    "from sklearn.model_selection import train_test_split\n",
    "\n",
    "with pd.option_context('mode.chained_assignment', None):\n",
    "    train_data_X_, test_data_X, train_data_y_ , test_data_y = train_test_split(dataXExpand, dataY, test_size=0.2, \n",
    "                                              shuffle=True,random_state=0)\n",
    "    \n",
    "with pd.option_context('mode.chained_assignment', None):\n",
    "    train_data_X, val_data_X, train_data_y, val_data_y = train_test_split(train_data_X_, train_data_y_, test_size=0.25, \n",
    "                                            shuffle=True,random_state=0)\n",
    "    \n",
    "print(train_data_X.shape, val_data_X.shape, test_data_X.shape)"
   ]
  },
  {
   "cell_type": "code",
   "execution_count": 120,
   "metadata": {},
   "outputs": [],
   "source": [
    "train_X = train_data_X.to_numpy()\n",
    "train_y = train_data_y\n",
    "\n",
    "test_X = test_data_X.to_numpy()\n",
    "test_y = test_data_y\n",
    "\n",
    "val_X = val_data_X.to_numpy()\n",
    "val_y = val_data_y"
   ]
  },
  {
   "cell_type": "markdown",
   "metadata": {},
   "source": [
    "Lets setup few functions to visualise the results.\n",
    "\n",
    "(Ignore section if on AWS) It is likely that you won’t have the graphviz package available, in which case you will need to install graphviz. This can be done through the anacoda-navigator interface (environment tab):\n",
    "1. Change the dropbox to “All”\n",
    "2. Search for the packagecpython-graphviz\n",
    "3. Select the python-graphviz package and install (press “apply”)\n",
    "\n",
    "If you cant install graphviz don’t worry - you can still complete the lab. Graphviz is nice to be able to see the trees that are being calculated. However, once the trees become complex, visualising them isn’t practical."
   ]
  },
  {
   "cell_type": "code",
   "execution_count": 121,
   "metadata": {},
   "outputs": [],
   "source": [
    "# import graphviz\n",
    "#\n",
    "# def get_tree_2_plot(clf):\n",
    "#     dot_data = tree.export_graphviz(clf, out_file=None,\n",
    "#                       feature_names=dataXExpand.columns,\n",
    "#                       class_names=class_labels,\n",
    "#                       filled=True, rounded=True,\n",
    "#                       special_characters=True)\n",
    "#     graph = graphviz.Source(dot_data)\n",
    "#     return graph"
   ]
  },
  {
   "cell_type": "code",
   "execution_count": 122,
   "metadata": {},
   "outputs": [],
   "source": [
    "from sklearn.metrics import f1_score\n",
    "\n",
    "def get_acc_scores(clf, train_X, train_y, val_X, val_y):\n",
    "    train_pred = clf.predict(train_X)\n",
    "    val_pred = clf.predict(val_X)\n",
    "    \n",
    "    train_acc = f1_score(train_y, train_pred, average='macro')\n",
    "    val_acc = f1_score(val_y, val_pred, average='macro')\n",
    "    \n",
    "    return train_acc, val_acc"
   ]
  },
  {
   "cell_type": "markdown",
   "metadata": {},
   "source": [
    "# Simple decision tree training\n",
    "\n",
    "Lets train a simple decision tree and visualize it."
   ]
  },
  {
   "cell_type": "code",
   "execution_count": 123,
   "metadata": {},
   "outputs": [],
   "source": [
    "from sklearn import tree\n",
    "\n",
    "tree_max_depth = 2   #change this value and observe\n",
    "\n",
    "clf = tree.DecisionTreeClassifier(criterion='entropy', max_depth=tree_max_depth, class_weight='balanced')\n",
    "clf = clf.fit(train_X, train_y)"
   ]
  },
  {
   "cell_type": "code",
   "execution_count": 124,
   "metadata": {},
   "outputs": [],
   "source": [
    "# Dtree = get_tree_2_plot(clf)\n",
    "# Dtree"
   ]
  },
  {
   "cell_type": "code",
   "execution_count": 125,
   "metadata": {},
   "outputs": [
    {
     "name": "stdout",
     "output_type": "stream",
     "text": [
      "Train f1 score: 0.552\n",
      "Validation f1 score: 0.560\n"
     ]
    }
   ],
   "source": [
    "train_acc, val_acc = get_acc_scores(clf,train_X, train_y, val_X, val_y)\n",
    "print(\"Train f1 score: {:.3f}\".format(train_acc))\n",
    "print(\"Validation f1 score: {:.3f}\".format(val_acc))"
   ]
  },
  {
   "cell_type": "markdown",
   "metadata": {},
   "source": [
    "<span style=\"font-size:1.5em;\">�</span> Did we achieve the desired target value? If not what do you thing the above results indicate: over-fitting, under-fitting\n",
    "\n",
    "<span style=\"font-size:1.5em;\">�</span> Based on the answer to the above question, what do you think is the best course of action?"
   ]
  },
  {
   "cell_type": "markdown",
   "metadata": {},
   "source": [
    "## Hyper parameter tuning\n",
    "\n",
    "<span style=\"font-size:1.5em;\">�</span> What are the hyper parameters of the `DecisionTreeClassifier`?\n",
    "\n",
    "You may decide to tune the important hyper-paramters of the decision tree classifier (identified in the above question) to get the best performance. As an example I have selected two hyper parameters:  `max_depth` and `min_samples_split`.\n",
    "\n",
    "In this exercise I will be using GridSearch to tune my parameters. Sklearn has a function that do cross validation to tune the hyper parameters called `GridSearchCV`. Lets use this function. \n",
    "\n",
    "*This step may take several steps depending on the performance of your computer*"
   ]
  },
  {
   "cell_type": "code",
   "execution_count": 126,
   "metadata": {},
   "outputs": [
    {
     "data": {
      "text/plain": "GridSearchCV(estimator=DecisionTreeClassifier(class_weight='balanced',\n                                              criterion='entropy'),\n             param_grid={'max_depth': array([  2,  52, 102, 152, 202, 252, 302, 352]),\n                         'min_samples_split': array([ 2,  7, 12, 17, 22, 27, 32, 37, 42, 47])},\n             scoring='f1_macro')"
     },
     "execution_count": 126,
     "metadata": {},
     "output_type": "execute_result"
    }
   ],
   "source": [
    "from sklearn.model_selection import GridSearchCV\n",
    "\n",
    "parameters = {'max_depth':np.arange(2,400, 50), 'min_samples_split':np.arange(2,50,5)}\n",
    "\n",
    "dt_clf = tree.DecisionTreeClassifier(criterion='entropy', class_weight='balanced')\n",
    "Gridclf = GridSearchCV(dt_clf, parameters, scoring='f1_macro')\n",
    "Gridclf.fit(train_X, train_y)"
   ]
  },
  {
   "cell_type": "code",
   "execution_count": 127,
   "metadata": {},
   "outputs": [
    {
     "data": {
      "text/plain": "    mean_fit_time  std_fit_time  mean_score_time  std_score_time  \\\n0        0.036233      0.000980         0.003003    1.096367e-03   \n1        0.037034      0.001790         0.002602    4.902323e-04   \n2        0.036233      0.001601         0.002402    4.901545e-04   \n3        0.035632      0.001961         0.002803    4.005194e-04   \n4        0.035432      0.000801         0.003003    2.132481e-07   \n..            ...           ...              ...             ...   \n75       0.149136      0.002901         0.002803    4.003764e-04   \n76       0.147735      0.003009         0.003003    6.289914e-07   \n77       0.150337      0.005781         0.002803    4.003763e-04   \n78       0.148335      0.003313         0.002803    7.490674e-04   \n79       0.147134      0.003165         0.002402    4.901155e-04   \n\n   param_max_depth param_min_samples_split  \\\n0                2                       2   \n1                2                       7   \n2                2                      12   \n3                2                      17   \n4                2                      22   \n..             ...                     ...   \n75             352                      27   \n76             352                      32   \n77             352                      37   \n78             352                      42   \n79             352                      47   \n\n                                         params  split0_test_score  \\\n0      {'max_depth': 2, 'min_samples_split': 2}           0.555917   \n1      {'max_depth': 2, 'min_samples_split': 7}           0.555917   \n2     {'max_depth': 2, 'min_samples_split': 12}           0.555917   \n3     {'max_depth': 2, 'min_samples_split': 17}           0.555917   \n4     {'max_depth': 2, 'min_samples_split': 22}           0.555917   \n..                                          ...                ...   \n75  {'max_depth': 352, 'min_samples_split': 27}           0.714901   \n76  {'max_depth': 352, 'min_samples_split': 32}           0.716526   \n77  {'max_depth': 352, 'min_samples_split': 37}           0.708571   \n78  {'max_depth': 352, 'min_samples_split': 42}           0.714352   \n79  {'max_depth': 352, 'min_samples_split': 47}           0.715197   \n\n    split1_test_score  split2_test_score  split3_test_score  \\\n0            0.523732           0.549189           0.608921   \n1            0.523732           0.549189           0.608921   \n2            0.523732           0.549189           0.608921   \n3            0.523732           0.549189           0.608921   \n4            0.523732           0.549189           0.608921   \n..                ...                ...                ...   \n75           0.698886           0.703900           0.704091   \n76           0.697833           0.708178           0.710044   \n77           0.694903           0.709814           0.711091   \n78           0.699751           0.710650           0.713416   \n79           0.703799           0.711455           0.715262   \n\n    split4_test_score  mean_test_score  std_test_score  rank_test_score  \n0            0.553087         0.558169        0.027832               71  \n1            0.553087         0.558169        0.027832               71  \n2            0.553087         0.558169        0.027832               71  \n3            0.553087         0.558169        0.027832               71  \n4            0.553087         0.558169        0.027832               71  \n..                ...              ...             ...              ...  \n75           0.713353         0.707026        0.006111               59  \n76           0.717667         0.710050        0.007109               17  \n77           0.715501         0.707976        0.006942               46  \n78           0.711800         0.709994        0.005278               18  \n79           0.710914         0.711325        0.004179                4  \n\n[80 rows x 15 columns]",
      "text/html": "<div>\n<style scoped>\n    .dataframe tbody tr th:only-of-type {\n        vertical-align: middle;\n    }\n\n    .dataframe tbody tr th {\n        vertical-align: top;\n    }\n\n    .dataframe thead th {\n        text-align: right;\n    }\n</style>\n<table border=\"1\" class=\"dataframe\">\n  <thead>\n    <tr style=\"text-align: right;\">\n      <th></th>\n      <th>mean_fit_time</th>\n      <th>std_fit_time</th>\n      <th>mean_score_time</th>\n      <th>std_score_time</th>\n      <th>param_max_depth</th>\n      <th>param_min_samples_split</th>\n      <th>params</th>\n      <th>split0_test_score</th>\n      <th>split1_test_score</th>\n      <th>split2_test_score</th>\n      <th>split3_test_score</th>\n      <th>split4_test_score</th>\n      <th>mean_test_score</th>\n      <th>std_test_score</th>\n      <th>rank_test_score</th>\n    </tr>\n  </thead>\n  <tbody>\n    <tr>\n      <th>0</th>\n      <td>0.036233</td>\n      <td>0.000980</td>\n      <td>0.003003</td>\n      <td>1.096367e-03</td>\n      <td>2</td>\n      <td>2</td>\n      <td>{'max_depth': 2, 'min_samples_split': 2}</td>\n      <td>0.555917</td>\n      <td>0.523732</td>\n      <td>0.549189</td>\n      <td>0.608921</td>\n      <td>0.553087</td>\n      <td>0.558169</td>\n      <td>0.027832</td>\n      <td>71</td>\n    </tr>\n    <tr>\n      <th>1</th>\n      <td>0.037034</td>\n      <td>0.001790</td>\n      <td>0.002602</td>\n      <td>4.902323e-04</td>\n      <td>2</td>\n      <td>7</td>\n      <td>{'max_depth': 2, 'min_samples_split': 7}</td>\n      <td>0.555917</td>\n      <td>0.523732</td>\n      <td>0.549189</td>\n      <td>0.608921</td>\n      <td>0.553087</td>\n      <td>0.558169</td>\n      <td>0.027832</td>\n      <td>71</td>\n    </tr>\n    <tr>\n      <th>2</th>\n      <td>0.036233</td>\n      <td>0.001601</td>\n      <td>0.002402</td>\n      <td>4.901545e-04</td>\n      <td>2</td>\n      <td>12</td>\n      <td>{'max_depth': 2, 'min_samples_split': 12}</td>\n      <td>0.555917</td>\n      <td>0.523732</td>\n      <td>0.549189</td>\n      <td>0.608921</td>\n      <td>0.553087</td>\n      <td>0.558169</td>\n      <td>0.027832</td>\n      <td>71</td>\n    </tr>\n    <tr>\n      <th>3</th>\n      <td>0.035632</td>\n      <td>0.001961</td>\n      <td>0.002803</td>\n      <td>4.005194e-04</td>\n      <td>2</td>\n      <td>17</td>\n      <td>{'max_depth': 2, 'min_samples_split': 17}</td>\n      <td>0.555917</td>\n      <td>0.523732</td>\n      <td>0.549189</td>\n      <td>0.608921</td>\n      <td>0.553087</td>\n      <td>0.558169</td>\n      <td>0.027832</td>\n      <td>71</td>\n    </tr>\n    <tr>\n      <th>4</th>\n      <td>0.035432</td>\n      <td>0.000801</td>\n      <td>0.003003</td>\n      <td>2.132481e-07</td>\n      <td>2</td>\n      <td>22</td>\n      <td>{'max_depth': 2, 'min_samples_split': 22}</td>\n      <td>0.555917</td>\n      <td>0.523732</td>\n      <td>0.549189</td>\n      <td>0.608921</td>\n      <td>0.553087</td>\n      <td>0.558169</td>\n      <td>0.027832</td>\n      <td>71</td>\n    </tr>\n    <tr>\n      <th>...</th>\n      <td>...</td>\n      <td>...</td>\n      <td>...</td>\n      <td>...</td>\n      <td>...</td>\n      <td>...</td>\n      <td>...</td>\n      <td>...</td>\n      <td>...</td>\n      <td>...</td>\n      <td>...</td>\n      <td>...</td>\n      <td>...</td>\n      <td>...</td>\n      <td>...</td>\n    </tr>\n    <tr>\n      <th>75</th>\n      <td>0.149136</td>\n      <td>0.002901</td>\n      <td>0.002803</td>\n      <td>4.003764e-04</td>\n      <td>352</td>\n      <td>27</td>\n      <td>{'max_depth': 352, 'min_samples_split': 27}</td>\n      <td>0.714901</td>\n      <td>0.698886</td>\n      <td>0.703900</td>\n      <td>0.704091</td>\n      <td>0.713353</td>\n      <td>0.707026</td>\n      <td>0.006111</td>\n      <td>59</td>\n    </tr>\n    <tr>\n      <th>76</th>\n      <td>0.147735</td>\n      <td>0.003009</td>\n      <td>0.003003</td>\n      <td>6.289914e-07</td>\n      <td>352</td>\n      <td>32</td>\n      <td>{'max_depth': 352, 'min_samples_split': 32}</td>\n      <td>0.716526</td>\n      <td>0.697833</td>\n      <td>0.708178</td>\n      <td>0.710044</td>\n      <td>0.717667</td>\n      <td>0.710050</td>\n      <td>0.007109</td>\n      <td>17</td>\n    </tr>\n    <tr>\n      <th>77</th>\n      <td>0.150337</td>\n      <td>0.005781</td>\n      <td>0.002803</td>\n      <td>4.003763e-04</td>\n      <td>352</td>\n      <td>37</td>\n      <td>{'max_depth': 352, 'min_samples_split': 37}</td>\n      <td>0.708571</td>\n      <td>0.694903</td>\n      <td>0.709814</td>\n      <td>0.711091</td>\n      <td>0.715501</td>\n      <td>0.707976</td>\n      <td>0.006942</td>\n      <td>46</td>\n    </tr>\n    <tr>\n      <th>78</th>\n      <td>0.148335</td>\n      <td>0.003313</td>\n      <td>0.002803</td>\n      <td>7.490674e-04</td>\n      <td>352</td>\n      <td>42</td>\n      <td>{'max_depth': 352, 'min_samples_split': 42}</td>\n      <td>0.714352</td>\n      <td>0.699751</td>\n      <td>0.710650</td>\n      <td>0.713416</td>\n      <td>0.711800</td>\n      <td>0.709994</td>\n      <td>0.005278</td>\n      <td>18</td>\n    </tr>\n    <tr>\n      <th>79</th>\n      <td>0.147134</td>\n      <td>0.003165</td>\n      <td>0.002402</td>\n      <td>4.901155e-04</td>\n      <td>352</td>\n      <td>47</td>\n      <td>{'max_depth': 352, 'min_samples_split': 47}</td>\n      <td>0.715197</td>\n      <td>0.703799</td>\n      <td>0.711455</td>\n      <td>0.715262</td>\n      <td>0.710914</td>\n      <td>0.711325</td>\n      <td>0.004179</td>\n      <td>4</td>\n    </tr>\n  </tbody>\n</table>\n<p>80 rows × 15 columns</p>\n</div>"
     },
     "execution_count": 127,
     "metadata": {},
     "output_type": "execute_result"
    }
   ],
   "source": [
    "pd.DataFrame(Gridclf.cv_results_)"
   ]
  },
  {
   "cell_type": "code",
   "execution_count": 128,
   "metadata": {},
   "outputs": [
    {
     "name": "stdout",
     "output_type": "stream",
     "text": [
      "0.7115297398965006\n",
      "{'max_depth': 152, 'min_samples_split': 47}\n"
     ]
    }
   ],
   "source": [
    "print(Gridclf.best_score_)\n",
    "print(Gridclf.best_params_)\n",
    "\n",
    "clf = Gridclf.best_estimator_"
   ]
  },
  {
   "cell_type": "code",
   "execution_count": 129,
   "metadata": {},
   "outputs": [
    {
     "name": "stdout",
     "output_type": "stream",
     "text": [
      "Train f1 score: 0.785\n",
      "Validation f1 score: 0.724\n"
     ]
    }
   ],
   "source": [
    "train_acc, val_acc = get_acc_scores(clf,train_X, train_y, val_X, val_y)\n",
    "print(\"Train f1 score: {:.3f}\".format(train_acc))\n",
    "print(\"Validation f1 score: {:.3f}\".format(val_acc))"
   ]
  },
  {
   "cell_type": "markdown",
   "metadata": {},
   "source": [
    "<span style=\"font-size:1.5em;\">�</span> Did we achieve the desired target value? If not what do you thing the above results indicate: over-fitting, under-fitting\n",
    "\n",
    "<span style=\"font-size:1.5em;\">�</span> Based on the answer to the above question, what do you think is the best course of action?"
   ]
  },
  {
   "cell_type": "markdown",
   "metadata": {},
   "source": [
    "## Post pruning decision trees with cost complexity pruning\n",
    "\n",
    "\n",
    "The DecisionTreeClassifier provides parameters such as min_samples_leaf and max_depth to prevent a tree from overfitting. Those parameters prevent the tree from growing to large size and are examples of pre pruning. \n",
    "\n",
    "Minimal cost-complexity pruning is an algorithm used to prune a tree to avoid over-fitting. This algorithm finds the node with the ''weakest link'' characterised by an effective alpha. Then the nodes with the smallest effective alpha are pruned first. as the algorithm works after the tree is grown, this is a post pruning technique. "
   ]
  },
  {
   "cell_type": "code",
   "execution_count": 130,
   "metadata": {},
   "outputs": [],
   "source": [
    "clf = tree.DecisionTreeClassifier(class_weight='balanced')\n",
    "path = clf.cost_complexity_pruning_path(train_X, train_y)\n",
    "ccp_alphas, impurities = path.ccp_alphas, path.impurities"
   ]
  },
  {
   "cell_type": "markdown",
   "metadata": {},
   "source": [
    "*The following step may take several steps depending on the performance of your computer*"
   ]
  },
  {
   "cell_type": "code",
   "execution_count": null,
   "metadata": {
    "pycharm": {
     "is_executing": true
    }
   },
   "outputs": [],
   "source": [
    "clfs = []\n",
    "for ccp_alpha in ccp_alphas:\n",
    "    clf = tree.DecisionTreeClassifier(random_state=0, ccp_alpha=ccp_alpha, class_weight='balanced')\n",
    "    clf.fit(train_X, train_y)\n",
    "    clfs.append(clf)"
   ]
  },
  {
   "cell_type": "code",
   "execution_count": null,
   "metadata": {
    "pycharm": {
     "is_executing": true
    }
   },
   "outputs": [],
   "source": [
    "train_scores = [f1_score(train_y, clf.predict(train_X), average='macro') for clf in clfs]\n",
    "val_scores = [f1_score(val_y, clf.predict(val_X), average='macro') for clf in clfs]\n",
    "\n",
    "fig, ax = plt.subplots(figsize=(10,10))\n",
    "ax.set_xlabel(\"alpha\")\n",
    "ax.set_ylabel(\"f1_score\")\n",
    "ax.set_title(\"Accuracy vs alpha for training and testing sets\")\n",
    "ax.plot(ccp_alphas, train_scores, marker='o', label=\"train\",\n",
    "        drawstyle=\"steps-post\")\n",
    "ax.plot(ccp_alphas, val_scores, marker='o', label=\"test\",\n",
    "        drawstyle=\"steps-post\")\n",
    "ax.legend()\n",
    "plt.show()"
   ]
  },
  {
   "cell_type": "markdown",
   "metadata": {},
   "source": [
    "<span style=\"font-size:1.5em;\">�</span> What `ccp_alphas` value would you choose as the best for the task?"
   ]
  },
  {
   "cell_type": "markdown",
   "metadata": {},
   "source": [
    "# Random forest\n",
    "\n",
    "Lets make many trees using our dataset. If we run the DT algorithm multiple times on same data, it will result in the same tree. To make different trees we can inject some randomness. Select data data points and features to be used in DT algorithm randomly - this process is called creating boor strapped datasets.\n",
    "\n",
    "This is automatically done in sklearn for us in the `RandomForestClassifier`. Lets use that on our dataset. "
   ]
  },
  {
   "cell_type": "code",
   "execution_count": null,
   "metadata": {
    "pycharm": {
     "is_executing": true
    }
   },
   "outputs": [],
   "source": [
    "from sklearn.ensemble import RandomForestClassifier\n",
    "clf = RandomForestClassifier(max_depth=8, n_estimators=500, class_weight='balanced_subsample', random_state=0)\n",
    "clf.fit(train_X, train_y)"
   ]
  },
  {
   "cell_type": "code",
   "execution_count": null,
   "metadata": {
    "pycharm": {
     "is_executing": true
    }
   },
   "outputs": [],
   "source": [
    "train_acc, val_acc = get_acc_scores(clf, train_X, train_y, val_X, val_y)\n",
    "print(\"Train Accuracy score: {:.3f}\".format(train_acc))\n",
    "print(\"Validation Accuracy score: {:.3f}\".format(val_acc))"
   ]
  },
  {
   "cell_type": "markdown",
   "metadata": {},
   "source": [
    "> **<font color='red'><span style=\"font-size:1.5em;\">☞</span> Task: Now tune the hyper parameters of the random forest.</font>**  "
   ]
  },
  {
   "cell_type": "markdown",
   "metadata": {},
   "source": [
    "<span style=\"font-size:1.5em;\">�</span> Is the final model that you get after hyper parameter tuning better than the previous decision tree model? Why?\n",
    "\n",
    "Lets visualise the feature importance of the RF classifier."
   ]
  },
  {
   "cell_type": "code",
   "execution_count": null,
   "metadata": {
    "pycharm": {
     "is_executing": true
    }
   },
   "outputs": [],
   "source": [
    "tree_feature_importances = clf.feature_importances_\n",
    "sorted_idx = tree_feature_importances.argsort()\n",
    "\n",
    "plt.figure(figsize=(10,10))\n",
    "plt.barh(dataXExpand.columns[sorted_idx], tree_feature_importances[sorted_idx])\n",
    "plt.show()"
   ]
  },
  {
   "cell_type": "markdown",
   "metadata": {},
   "source": [
    "<span style=\"font-size:1.5em;\">�</span> Based on the above figure, do you see any reason to be concerned about the model?\n",
    "\n",
    "<span style=\"font-size:1.5em;\">�</span> If the model uses `duration` to predict the target, what can be an issue?"
   ]
  },
  {
   "cell_type": "markdown",
   "metadata": {},
   "source": [
    "# Exercise: Regression Decision Tree\n",
    "\n",
    "A regression decision tree can also be trained.  These are decision trees where the leaf node is a regression function. You will investigate learning regression trees using the boston housing data set from previous labs.\n",
    "\n",
    "The below code snippet will help get you started. Note that it does not make sense to use entropy for generating splits, so the default method from sklearn will be used. Also note that the DecisionTreeRegressor class uses similar pre-pruning parameters."
   ]
  },
  {
   "cell_type": "code",
   "execution_count": null,
   "metadata": {
    "pycharm": {
     "is_executing": true
    }
   },
   "outputs": [],
   "source": [
    "# import pandas as pd\n",
    "# import matplotlib.pyplot as plt\n",
    "# import numpy as np\n",
    "# import sklearn \n",
    "\n",
    "# from sklearn import tree\n",
    "# from sklearn import preprocessing\n",
    "# from sklearn import metrics\n",
    "# from sklearn import model_selection\n",
    "\n",
    "# Load data\n",
    "\n",
    "# bostonDataTarget = bostonData['MEDV']\n",
    "# bostonDataAttrs = bostonData.drop(columns='MEDV')\n",
    "# trainY, testY, trainX, testX = model_selection.train_test_split(np.array(bostonDataTarget),np.array(bostonDataAttrs), test_size=0.2)\n",
    "# clfBoston = sklearn.tree.DecisionTreeRegressor(max_depth=5, min_samples_split=5)\n",
    "# clfBoston = clfBoston.fit(trainX, trainY)\n",
    "# predictions = clfBoston.predict(testX)\n",
    "# metrics.mean_squared_error(testY, predictions)"
   ]
  },
  {
   "cell_type": "markdown",
   "metadata": {},
   "source": [
    "<span style=\"font-size:1.5em;\">�</span> How does the error on the regression decision tree compare to the best results you have found in previous labs?\n",
    "    \n",
    "<span style=\"font-size:1.5em;\">�</span> Find a good set of pre-pruning parameters that minimises the mean square error"
   ]
  }
 ],
 "metadata": {
  "kernelspec": {
   "display_name": "Python 3",
   "language": "python",
   "name": "python3"
  },
  "language_info": {
   "codemirror_mode": {
    "name": "ipython",
    "version": 3
   },
   "file_extension": ".py",
   "mimetype": "text/x-python",
   "name": "python",
   "nbconvert_exporter": "python",
   "pygments_lexer": "ipython3",
   "version": "3.7.4"
  }
 },
 "nbformat": 4,
 "nbformat_minor": 4
}